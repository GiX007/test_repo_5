{
  "nbformat": 4,
  "nbformat_minor": 0,
  "metadata": {
    "colab": {
      "provenance": []
    },
    "kernelspec": {
      "name": "python3",
      "display_name": "Python 3"
    },
    "language_info": {
      "name": "python"
    }
  },
  "cells": [
    {
      "cell_type": "code",
      "execution_count": 1,
      "metadata": {
        "id": "lZTYHlewkUGu"
      },
      "outputs": [],
      "source": [
        "# operations: merge, melt, dropna using Flights dataset\n",
        "import pandas as pd\n",
        "\n",
        "flights = pd.read_csv('https://raw.githubusercontent.com/mwaskom/seaborn-data/master/flights.csv')"
      ]
    },
    {
      "cell_type": "code",
      "source": [
        "print(flights.head())\n",
        "print(flights.info())\n",
        "print(flights.describe())"
      ],
      "metadata": {
        "colab": {
          "base_uri": "https://localhost:8080/"
        },
        "id": "H-t4QhZxmMPi",
        "outputId": "eb856141-7148-4e08-b863-3e94a18c8a8d"
      },
      "execution_count": 2,
      "outputs": [
        {
          "output_type": "stream",
          "name": "stdout",
          "text": [
            "   year     month  passengers\n",
            "0  1949   January         112\n",
            "1  1949  February         118\n",
            "2  1949     March         132\n",
            "3  1949     April         129\n",
            "4  1949       May         121\n",
            "<class 'pandas.core.frame.DataFrame'>\n",
            "RangeIndex: 144 entries, 0 to 143\n",
            "Data columns (total 3 columns):\n",
            " #   Column      Non-Null Count  Dtype \n",
            "---  ------      --------------  ----- \n",
            " 0   year        144 non-null    int64 \n",
            " 1   month       144 non-null    object\n",
            " 2   passengers  144 non-null    int64 \n",
            "dtypes: int64(2), object(1)\n",
            "memory usage: 3.5+ KB\n",
            "None\n",
            "              year  passengers\n",
            "count   144.000000  144.000000\n",
            "mean   1954.500000  280.298611\n",
            "std       3.464102  119.966317\n",
            "min    1949.000000  104.000000\n",
            "25%    1951.750000  180.000000\n",
            "50%    1954.500000  265.500000\n",
            "75%    1957.250000  360.500000\n",
            "max    1960.000000  622.000000\n"
          ]
        }
      ]
    },
    {
      "cell_type": "code",
      "source": [
        "# create year mapping DataFrame\n",
        "year_map = pd.DataFrame({'year': [1949, 1950, 1951], 'era': ['post-war', 'post-war', 'boom']})"
      ],
      "metadata": {
        "id": "j1gqR3jdmFss"
      },
      "execution_count": 3,
      "outputs": []
    },
    {
      "cell_type": "code",
      "source": [
        "# merge\n",
        "merged = pd.merge(flights, year_map, on='year', how='left')\n",
        "print(merged.head())"
      ],
      "metadata": {
        "colab": {
          "base_uri": "https://localhost:8080/"
        },
        "id": "hi0Qhg1HmFqO",
        "outputId": "6bb6fb6d-987f-4764-991e-0bebb86d3651"
      },
      "execution_count": 4,
      "outputs": [
        {
          "output_type": "stream",
          "name": "stdout",
          "text": [
            "   year     month  passengers       era\n",
            "0  1949   January         112  post-war\n",
            "1  1949  February         118  post-war\n",
            "2  1949     March         132  post-war\n",
            "3  1949     April         129  post-war\n",
            "4  1949       May         121  post-war\n"
          ]
        }
      ]
    },
    {
      "cell_type": "code",
      "source": [
        "# melt\n",
        "melted = pd.melt(merged, id_vars=['year', 'month'], value_vars=['passengers'], var_name='metric', value_name='count')\n",
        "print(melted.head())"
      ],
      "metadata": {
        "colab": {
          "base_uri": "https://localhost:8080/"
        },
        "id": "4BxAZkwLmCyl",
        "outputId": "be34d6c3-edc3-40df-c16e-9d66315cdf94"
      },
      "execution_count": 5,
      "outputs": [
        {
          "output_type": "stream",
          "name": "stdout",
          "text": [
            "   year     month      metric  count\n",
            "0  1949   January  passengers    112\n",
            "1  1949  February  passengers    118\n",
            "2  1949     March  passengers    132\n",
            "3  1949     April  passengers    129\n",
            "4  1949       May  passengers    121\n"
          ]
        }
      ]
    },
    {
      "cell_type": "code",
      "source": [
        "# dropna (none here, but we simulate)\n",
        "melted.loc[0:2, 'count'] = pd.NA\n",
        "dropped = melted.dropna(subset=['count'])\n",
        "print(dropped.head())"
      ],
      "metadata": {
        "colab": {
          "base_uri": "https://localhost:8080/"
        },
        "id": "z2iRVptVmCvx",
        "outputId": "b4c48487-c7c1-4ac1-a83a-9edf0322055f"
      },
      "execution_count": 6,
      "outputs": [
        {
          "output_type": "stream",
          "name": "stdout",
          "text": [
            "   year   month      metric  count\n",
            "3  1949   April  passengers  129.0\n",
            "4  1949     May  passengers  121.0\n",
            "5  1949    June  passengers  135.0\n",
            "6  1949    July  passengers  148.0\n",
            "7  1949  August  passengers  148.0\n"
          ]
        }
      ]
    },
    {
      "cell_type": "code",
      "source": [],
      "metadata": {
        "id": "DGEEZkONmmXK"
      },
      "execution_count": null,
      "outputs": []
    }
  ]
}